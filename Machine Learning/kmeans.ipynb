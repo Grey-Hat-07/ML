{
 "cells": [
  {
   "cell_type": "code",
   "execution_count": 36,
   "metadata": {},
   "outputs": [],
   "source": [
    "from sklearn.preprocessing import MinMaxScaler\n",
    "from sklearn.datasets import make_classification\n",
    "from sklearn.model_selection import train_test_split\n",
    "from sklearn.metrics import silhouette_score\n",
    "import matplotlib.pyplot as plt\n",
    "import pandas as pd\n",
    "import numpy as np"
   ]
  },
  {
   "cell_type": "code",
   "execution_count": 37,
   "metadata": {},
   "outputs": [
    {
     "data": {
      "text/html": [
       "<div>\n",
       "<style scoped>\n",
       "    .dataframe tbody tr th:only-of-type {\n",
       "        vertical-align: middle;\n",
       "    }\n",
       "\n",
       "    .dataframe tbody tr th {\n",
       "        vertical-align: top;\n",
       "    }\n",
       "\n",
       "    .dataframe thead th {\n",
       "        text-align: right;\n",
       "    }\n",
       "</style>\n",
       "<table border=\"1\" class=\"dataframe\">\n",
       "  <thead>\n",
       "    <tr style=\"text-align: right;\">\n",
       "      <th></th>\n",
       "      <th>0</th>\n",
       "      <th>1</th>\n",
       "    </tr>\n",
       "  </thead>\n",
       "  <tbody>\n",
       "    <tr>\n",
       "      <th>0</th>\n",
       "      <td>0.440012</td>\n",
       "      <td>-2.300197</td>\n",
       "    </tr>\n",
       "    <tr>\n",
       "      <th>1</th>\n",
       "      <td>1.321404</td>\n",
       "      <td>1.774453</td>\n",
       "    </tr>\n",
       "    <tr>\n",
       "      <th>2</th>\n",
       "      <td>0.816309</td>\n",
       "      <td>1.858987</td>\n",
       "    </tr>\n",
       "    <tr>\n",
       "      <th>3</th>\n",
       "      <td>1.018436</td>\n",
       "      <td>-0.739348</td>\n",
       "    </tr>\n",
       "    <tr>\n",
       "      <th>4</th>\n",
       "      <td>1.569294</td>\n",
       "      <td>-1.428081</td>\n",
       "    </tr>\n",
       "    <tr>\n",
       "      <th>...</th>\n",
       "      <td>...</td>\n",
       "      <td>...</td>\n",
       "    </tr>\n",
       "    <tr>\n",
       "      <th>1795</th>\n",
       "      <td>1.780886</td>\n",
       "      <td>-2.262749</td>\n",
       "    </tr>\n",
       "    <tr>\n",
       "      <th>1796</th>\n",
       "      <td>1.106726</td>\n",
       "      <td>-0.194915</td>\n",
       "    </tr>\n",
       "    <tr>\n",
       "      <th>1797</th>\n",
       "      <td>1.563437</td>\n",
       "      <td>0.579967</td>\n",
       "    </tr>\n",
       "    <tr>\n",
       "      <th>1798</th>\n",
       "      <td>-2.013661</td>\n",
       "      <td>0.931375</td>\n",
       "    </tr>\n",
       "    <tr>\n",
       "      <th>1799</th>\n",
       "      <td>0.394720</td>\n",
       "      <td>3.189124</td>\n",
       "    </tr>\n",
       "  </tbody>\n",
       "</table>\n",
       "<p>1800 rows × 2 columns</p>\n",
       "</div>"
      ],
      "text/plain": [
       "             0         1\n",
       "0     0.440012 -2.300197\n",
       "1     1.321404  1.774453\n",
       "2     0.816309  1.858987\n",
       "3     1.018436 -0.739348\n",
       "4     1.569294 -1.428081\n",
       "...        ...       ...\n",
       "1795  1.780886 -2.262749\n",
       "1796  1.106726 -0.194915\n",
       "1797  1.563437  0.579967\n",
       "1798 -2.013661  0.931375\n",
       "1799  0.394720  3.189124\n",
       "\n",
       "[1800 rows x 2 columns]"
      ]
     },
     "execution_count": 37,
     "metadata": {},
     "output_type": "execute_result"
    }
   ],
   "source": [
    "X, y = make_classification(\n",
    "    n_samples=1800,\n",
    "    n_classes=3,\n",
    "    n_clusters_per_class=1,\n",
    "    n_features=2,\n",
    "    n_informative=2,\n",
    "    n_redundant=0,\n",
    "    n_repeated=0,\n",
    "    random_state=50\n",
    ")\n",
    "\n",
    "X = pd.DataFrame(X)\n",
    "X"
   ]
  },
  {
   "cell_type": "code",
   "execution_count": 38,
   "metadata": {},
   "outputs": [],
   "source": [
    "x_scalar = MinMaxScaler().fit_transform(X)"
   ]
  },
  {
   "cell_type": "code",
   "execution_count": 39,
   "metadata": {},
   "outputs": [
    {
     "data": {
      "text/html": [
       "<div>\n",
       "<style scoped>\n",
       "    .dataframe tbody tr th:only-of-type {\n",
       "        vertical-align: middle;\n",
       "    }\n",
       "\n",
       "    .dataframe tbody tr th {\n",
       "        vertical-align: top;\n",
       "    }\n",
       "\n",
       "    .dataframe thead th {\n",
       "        text-align: right;\n",
       "    }\n",
       "</style>\n",
       "<table border=\"1\" class=\"dataframe\">\n",
       "  <thead>\n",
       "    <tr style=\"text-align: right;\">\n",
       "      <th></th>\n",
       "      <th>0</th>\n",
       "      <th>1</th>\n",
       "    </tr>\n",
       "  </thead>\n",
       "  <tbody>\n",
       "    <tr>\n",
       "      <th>882</th>\n",
       "      <td>0.762400</td>\n",
       "      <td>0.434168</td>\n",
       "    </tr>\n",
       "    <tr>\n",
       "      <th>219</th>\n",
       "      <td>0.774902</td>\n",
       "      <td>0.138168</td>\n",
       "    </tr>\n",
       "    <tr>\n",
       "      <th>403</th>\n",
       "      <td>0.767593</td>\n",
       "      <td>0.228491</td>\n",
       "    </tr>\n",
       "    <tr>\n",
       "      <th>1668</th>\n",
       "      <td>0.717382</td>\n",
       "      <td>0.452867</td>\n",
       "    </tr>\n",
       "  </tbody>\n",
       "</table>\n",
       "</div>"
      ],
      "text/plain": [
       "             0         1\n",
       "882   0.762400  0.434168\n",
       "219   0.774902  0.138168\n",
       "403   0.767593  0.228491\n",
       "1668  0.717382  0.452867"
      ]
     },
     "execution_count": 39,
     "metadata": {},
     "output_type": "execute_result"
    }
   ],
   "source": [
    "pd.DataFrame(x_scalar).sample(n = 4)"
   ]
  },
  {
   "cell_type": "code",
   "execution_count": 40,
   "metadata": {},
   "outputs": [
    {
     "data": {
      "text/html": [
       "<div>\n",
       "<style scoped>\n",
       "    .dataframe tbody tr th:only-of-type {\n",
       "        vertical-align: middle;\n",
       "    }\n",
       "\n",
       "    .dataframe tbody tr th {\n",
       "        vertical-align: top;\n",
       "    }\n",
       "\n",
       "    .dataframe thead th {\n",
       "        text-align: right;\n",
       "    }\n",
       "</style>\n",
       "<table border=\"1\" class=\"dataframe\">\n",
       "  <thead>\n",
       "    <tr style=\"text-align: right;\">\n",
       "      <th></th>\n",
       "      <th>151</th>\n",
       "      <th>749</th>\n",
       "      <th>225</th>\n",
       "      <th>1433</th>\n",
       "    </tr>\n",
       "  </thead>\n",
       "  <tbody>\n",
       "    <tr>\n",
       "      <th>0</th>\n",
       "      <td>0.534092</td>\n",
       "      <td>0.423860</td>\n",
       "      <td>0.427521</td>\n",
       "      <td>0.682234</td>\n",
       "    </tr>\n",
       "    <tr>\n",
       "      <th>1</th>\n",
       "      <td>0.389453</td>\n",
       "      <td>0.560152</td>\n",
       "      <td>0.663693</td>\n",
       "      <td>0.616461</td>\n",
       "    </tr>\n",
       "  </tbody>\n",
       "</table>\n",
       "</div>"
      ],
      "text/plain": [
       "       151       749       225       1433\n",
       "0  0.534092  0.423860  0.427521  0.682234\n",
       "1  0.389453  0.560152  0.663693  0.616461"
      ]
     },
     "execution_count": 40,
     "metadata": {},
     "output_type": "execute_result"
    }
   ],
   "source": [
    "centroid = []\n",
    "def kRandomCentroids(data, k):\n",
    "    # for i in range(k):\n",
    "    #     centroid.append(pd.DataFrame(data).apply(lambda x: float(x.sample())))\n",
    "    # return pd.concat(centroid, axis=1)\n",
    "    return pd.DataFrame(data).sample(n = k).T\n",
    "randomCentroids = kRandomCentroids(x_scalar, 4)\n",
    "randomCentroids"
   ]
  },
  {
   "cell_type": "code",
   "execution_count": 41,
   "metadata": {},
   "outputs": [
    {
     "data": {
      "text/html": [
       "<div>\n",
       "<style scoped>\n",
       "    .dataframe tbody tr th:only-of-type {\n",
       "        vertical-align: middle;\n",
       "    }\n",
       "\n",
       "    .dataframe tbody tr th {\n",
       "        vertical-align: top;\n",
       "    }\n",
       "\n",
       "    .dataframe thead th {\n",
       "        text-align: right;\n",
       "    }\n",
       "</style>\n",
       "<table border=\"1\" class=\"dataframe\">\n",
       "  <thead>\n",
       "    <tr style=\"text-align: right;\">\n",
       "      <th></th>\n",
       "      <th>0</th>\n",
       "      <th>1</th>\n",
       "    </tr>\n",
       "  </thead>\n",
       "  <tbody>\n",
       "    <tr>\n",
       "      <th>0</th>\n",
       "      <td>0.666985</td>\n",
       "      <td>0.063973</td>\n",
       "    </tr>\n",
       "    <tr>\n",
       "      <th>1</th>\n",
       "      <td>0.774230</td>\n",
       "      <td>0.599778</td>\n",
       "    </tr>\n",
       "    <tr>\n",
       "      <th>2</th>\n",
       "      <td>0.712771</td>\n",
       "      <td>0.610894</td>\n",
       "    </tr>\n",
       "    <tr>\n",
       "      <th>3</th>\n",
       "      <td>0.737366</td>\n",
       "      <td>0.269221</td>\n",
       "    </tr>\n",
       "    <tr>\n",
       "      <th>4</th>\n",
       "      <td>0.804392</td>\n",
       "      <td>0.178654</td>\n",
       "    </tr>\n",
       "    <tr>\n",
       "      <th>...</th>\n",
       "      <td>...</td>\n",
       "      <td>...</td>\n",
       "    </tr>\n",
       "    <tr>\n",
       "      <th>1795</th>\n",
       "      <td>0.830138</td>\n",
       "      <td>0.068898</td>\n",
       "    </tr>\n",
       "    <tr>\n",
       "      <th>1796</th>\n",
       "      <td>0.748108</td>\n",
       "      <td>0.340812</td>\n",
       "    </tr>\n",
       "    <tr>\n",
       "      <th>1797</th>\n",
       "      <td>0.803679</td>\n",
       "      <td>0.442707</td>\n",
       "    </tr>\n",
       "    <tr>\n",
       "      <th>1798</th>\n",
       "      <td>0.368430</td>\n",
       "      <td>0.488916</td>\n",
       "    </tr>\n",
       "    <tr>\n",
       "      <th>1799</th>\n",
       "      <td>0.661474</td>\n",
       "      <td>0.785803</td>\n",
       "    </tr>\n",
       "  </tbody>\n",
       "</table>\n",
       "<p>1800 rows × 2 columns</p>\n",
       "</div>"
      ],
      "text/plain": [
       "             0         1\n",
       "0     0.666985  0.063973\n",
       "1     0.774230  0.599778\n",
       "2     0.712771  0.610894\n",
       "3     0.737366  0.269221\n",
       "4     0.804392  0.178654\n",
       "...        ...       ...\n",
       "1795  0.830138  0.068898\n",
       "1796  0.748108  0.340812\n",
       "1797  0.803679  0.442707\n",
       "1798  0.368430  0.488916\n",
       "1799  0.661474  0.785803\n",
       "\n",
       "[1800 rows x 2 columns]"
      ]
     },
     "execution_count": 41,
     "metadata": {},
     "output_type": "execute_result"
    }
   ],
   "source": [
    "x_scalar = pd.DataFrame(x_scalar)\n",
    "x_scalar"
   ]
  },
  {
   "cell_type": "code",
   "execution_count": 42,
   "metadata": {},
   "outputs": [
    {
     "data": {
      "text/html": [
       "<div>\n",
       "<style scoped>\n",
       "    .dataframe tbody tr th:only-of-type {\n",
       "        vertical-align: middle;\n",
       "    }\n",
       "\n",
       "    .dataframe tbody tr th {\n",
       "        vertical-align: top;\n",
       "    }\n",
       "\n",
       "    .dataframe thead th {\n",
       "        text-align: right;\n",
       "    }\n",
       "</style>\n",
       "<table border=\"1\" class=\"dataframe\">\n",
       "  <thead>\n",
       "    <tr style=\"text-align: right;\">\n",
       "      <th></th>\n",
       "      <th>A</th>\n",
       "      <th>B</th>\n",
       "      <th>C</th>\n",
       "      <th>D</th>\n",
       "    </tr>\n",
       "  </thead>\n",
       "  <tbody>\n",
       "    <tr>\n",
       "      <th>0</th>\n",
       "      <td>0.534092</td>\n",
       "      <td>0.423860</td>\n",
       "      <td>0.427521</td>\n",
       "      <td>0.682234</td>\n",
       "    </tr>\n",
       "    <tr>\n",
       "      <th>1</th>\n",
       "      <td>0.389453</td>\n",
       "      <td>0.560152</td>\n",
       "      <td>0.663693</td>\n",
       "      <td>0.616461</td>\n",
       "    </tr>\n",
       "  </tbody>\n",
       "</table>\n",
       "</div>"
      ],
      "text/plain": [
       "          A         B         C         D\n",
       "0  0.534092  0.423860  0.427521  0.682234\n",
       "1  0.389453  0.560152  0.663693  0.616461"
      ]
     },
     "execution_count": 42,
     "metadata": {},
     "output_type": "execute_result"
    }
   ],
   "source": [
    "randomCentroids.columns = ['A', 'B', 'C', 'D']\n",
    "randomCentroids"
   ]
  },
  {
   "cell_type": "code",
   "execution_count": 43,
   "metadata": {},
   "outputs": [
    {
     "data": {
      "text/html": [
       "<div>\n",
       "<style scoped>\n",
       "    .dataframe tbody tr th:only-of-type {\n",
       "        vertical-align: middle;\n",
       "    }\n",
       "\n",
       "    .dataframe tbody tr th {\n",
       "        vertical-align: top;\n",
       "    }\n",
       "\n",
       "    .dataframe thead th {\n",
       "        text-align: right;\n",
       "    }\n",
       "</style>\n",
       "<table border=\"1\" class=\"dataframe\">\n",
       "  <thead>\n",
       "    <tr style=\"text-align: right;\">\n",
       "      <th></th>\n",
       "      <th>A</th>\n",
       "      <th>B</th>\n",
       "      <th>C</th>\n",
       "      <th>D</th>\n",
       "    </tr>\n",
       "  </thead>\n",
       "  <tbody>\n",
       "    <tr>\n",
       "      <th>0</th>\n",
       "      <td>0.458373</td>\n",
       "      <td>0.739303</td>\n",
       "      <td>0.839183</td>\n",
       "      <td>0.567737</td>\n",
       "    </tr>\n",
       "    <tr>\n",
       "      <th>1</th>\n",
       "      <td>0.450463</td>\n",
       "      <td>0.389995</td>\n",
       "      <td>0.410623</td>\n",
       "      <td>0.108678</td>\n",
       "    </tr>\n",
       "    <tr>\n",
       "      <th>2</th>\n",
       "      <td>0.400121</td>\n",
       "      <td>0.339653</td>\n",
       "      <td>0.338048</td>\n",
       "      <td>0.036104</td>\n",
       "    </tr>\n",
       "    <tr>\n",
       "      <th>3</th>\n",
       "      <td>0.323506</td>\n",
       "      <td>0.604437</td>\n",
       "      <td>0.704316</td>\n",
       "      <td>0.402371</td>\n",
       "    </tr>\n",
       "    <tr>\n",
       "      <th>4</th>\n",
       "      <td>0.481099</td>\n",
       "      <td>0.762030</td>\n",
       "      <td>0.861909</td>\n",
       "      <td>0.559964</td>\n",
       "    </tr>\n",
       "    <tr>\n",
       "      <th>...</th>\n",
       "      <td>...</td>\n",
       "      <td>...</td>\n",
       "      <td>...</td>\n",
       "      <td>...</td>\n",
       "    </tr>\n",
       "    <tr>\n",
       "      <th>1795</th>\n",
       "      <td>0.616602</td>\n",
       "      <td>0.897532</td>\n",
       "      <td>0.997412</td>\n",
       "      <td>0.695467</td>\n",
       "    </tr>\n",
       "    <tr>\n",
       "      <th>1796</th>\n",
       "      <td>0.262658</td>\n",
       "      <td>0.543588</td>\n",
       "      <td>0.643468</td>\n",
       "      <td>0.341523</td>\n",
       "    </tr>\n",
       "    <tr>\n",
       "      <th>1797</th>\n",
       "      <td>0.322842</td>\n",
       "      <td>0.497265</td>\n",
       "      <td>0.597144</td>\n",
       "      <td>0.295199</td>\n",
       "    </tr>\n",
       "    <tr>\n",
       "      <th>1798</th>\n",
       "      <td>0.265125</td>\n",
       "      <td>0.126667</td>\n",
       "      <td>0.233868</td>\n",
       "      <td>0.441349</td>\n",
       "    </tr>\n",
       "    <tr>\n",
       "      <th>1799</th>\n",
       "      <td>0.523733</td>\n",
       "      <td>0.463265</td>\n",
       "      <td>0.356063</td>\n",
       "      <td>0.190103</td>\n",
       "    </tr>\n",
       "  </tbody>\n",
       "</table>\n",
       "<p>1800 rows × 4 columns</p>\n",
       "</div>"
      ],
      "text/plain": [
       "             A         B         C         D\n",
       "0     0.458373  0.739303  0.839183  0.567737\n",
       "1     0.450463  0.389995  0.410623  0.108678\n",
       "2     0.400121  0.339653  0.338048  0.036104\n",
       "3     0.323506  0.604437  0.704316  0.402371\n",
       "4     0.481099  0.762030  0.861909  0.559964\n",
       "...        ...       ...       ...       ...\n",
       "1795  0.616602  0.897532  0.997412  0.695467\n",
       "1796  0.262658  0.543588  0.643468  0.341523\n",
       "1797  0.322842  0.497265  0.597144  0.295199\n",
       "1798  0.265125  0.126667  0.233868  0.441349\n",
       "1799  0.523733  0.463265  0.356063  0.190103\n",
       "\n",
       "[1800 rows x 4 columns]"
      ]
     },
     "execution_count": 43,
     "metadata": {},
     "output_type": "execute_result"
    }
   ],
   "source": [
    "def euclidianDistance(randomCentroids, data):\n",
    "    return randomCentroids.apply(lambda x: np.sqrt((data - x) ** 2).sum(axis=1))\n",
    "distances = euclidianDistance(randomCentroids, x_scalar)\n",
    "distances"
   ]
  },
  {
   "cell_type": "code",
   "execution_count": 44,
   "metadata": {},
   "outputs": [
    {
     "data": {
      "text/plain": [
       "0       A\n",
       "1       D\n",
       "2       D\n",
       "3       A\n",
       "4       A\n",
       "       ..\n",
       "1795    A\n",
       "1796    A\n",
       "1797    D\n",
       "1798    B\n",
       "1799    D\n",
       "Length: 1800, dtype: object"
      ]
     },
     "execution_count": 44,
     "metadata": {},
     "output_type": "execute_result"
    }
   ],
   "source": [
    "distances.apply(lambda row: distances.columns[row.argmin()], axis=1)"
   ]
  },
  {
   "cell_type": "code",
   "execution_count": 45,
   "metadata": {},
   "outputs": [
    {
     "data": {
      "text/html": [
       "<div>\n",
       "<style scoped>\n",
       "    .dataframe tbody tr th:only-of-type {\n",
       "        vertical-align: middle;\n",
       "    }\n",
       "\n",
       "    .dataframe tbody tr th {\n",
       "        vertical-align: top;\n",
       "    }\n",
       "\n",
       "    .dataframe thead th {\n",
       "        text-align: right;\n",
       "    }\n",
       "</style>\n",
       "<table border=\"1\" class=\"dataframe\">\n",
       "  <thead>\n",
       "    <tr style=\"text-align: right;\">\n",
       "      <th></th>\n",
       "      <th>0</th>\n",
       "      <th>1</th>\n",
       "    </tr>\n",
       "  </thead>\n",
       "  <tbody>\n",
       "    <tr>\n",
       "      <th>0</th>\n",
       "      <td>0</td>\n",
       "      <td>0</td>\n",
       "    </tr>\n",
       "    <tr>\n",
       "      <th>1</th>\n",
       "      <td>3</td>\n",
       "      <td>1</td>\n",
       "    </tr>\n",
       "    <tr>\n",
       "      <th>2</th>\n",
       "      <td>3</td>\n",
       "      <td>2</td>\n",
       "    </tr>\n",
       "    <tr>\n",
       "      <th>3</th>\n",
       "      <td>0</td>\n",
       "      <td>3</td>\n",
       "    </tr>\n",
       "    <tr>\n",
       "      <th>4</th>\n",
       "      <td>0</td>\n",
       "      <td>4</td>\n",
       "    </tr>\n",
       "    <tr>\n",
       "      <th>...</th>\n",
       "      <td>...</td>\n",
       "      <td>...</td>\n",
       "    </tr>\n",
       "    <tr>\n",
       "      <th>1795</th>\n",
       "      <td>0</td>\n",
       "      <td>1795</td>\n",
       "    </tr>\n",
       "    <tr>\n",
       "      <th>1796</th>\n",
       "      <td>0</td>\n",
       "      <td>1796</td>\n",
       "    </tr>\n",
       "    <tr>\n",
       "      <th>1797</th>\n",
       "      <td>3</td>\n",
       "      <td>1797</td>\n",
       "    </tr>\n",
       "    <tr>\n",
       "      <th>1798</th>\n",
       "      <td>1</td>\n",
       "      <td>1798</td>\n",
       "    </tr>\n",
       "    <tr>\n",
       "      <th>1799</th>\n",
       "      <td>3</td>\n",
       "      <td>1799</td>\n",
       "    </tr>\n",
       "  </tbody>\n",
       "</table>\n",
       "<p>1800 rows × 2 columns</p>\n",
       "</div>"
      ],
      "text/plain": [
       "      0     1\n",
       "0     0     0\n",
       "1     3     1\n",
       "2     3     2\n",
       "3     0     3\n",
       "4     0     4\n",
       "...  ..   ...\n",
       "1795  0  1795\n",
       "1796  0  1796\n",
       "1797  3  1797\n",
       "1798  1  1798\n",
       "1799  3  1799\n",
       "\n",
       "[1800 rows x 2 columns]"
      ]
     },
     "execution_count": 45,
     "metadata": {},
     "output_type": "execute_result"
    }
   ],
   "source": [
    "def makeCluster(distances):\n",
    "    cluster = []\n",
    "    for i in range(distances.shape[0]):\n",
    "        cluster.append((distances.iloc[i, :].argmin(), i))\n",
    "    return pd.DataFrame(cluster)\n",
    "    # return pd.DataFrame(distances.apply(lambda row: distances.columns[row.argmin()], axis=1))\n",
    "cluster = makeCluster(distances)\n",
    "cluster"
   ]
  },
  {
   "cell_type": "code",
   "execution_count": 46,
   "metadata": {},
   "outputs": [
    {
     "data": {
      "text/html": [
       "<div>\n",
       "<style scoped>\n",
       "    .dataframe tbody tr th:only-of-type {\n",
       "        vertical-align: middle;\n",
       "    }\n",
       "\n",
       "    .dataframe tbody tr th {\n",
       "        vertical-align: top;\n",
       "    }\n",
       "\n",
       "    .dataframe thead th {\n",
       "        text-align: right;\n",
       "    }\n",
       "</style>\n",
       "<table border=\"1\" class=\"dataframe\">\n",
       "  <thead>\n",
       "    <tr style=\"text-align: right;\">\n",
       "      <th></th>\n",
       "      <th>0</th>\n",
       "      <th>1</th>\n",
       "      <th>2</th>\n",
       "      <th>3</th>\n",
       "    </tr>\n",
       "  </thead>\n",
       "  <tbody>\n",
       "    <tr>\n",
       "      <th>0</th>\n",
       "      <td>0.685885</td>\n",
       "      <td>0.406737</td>\n",
       "      <td>0.389587</td>\n",
       "      <td>0.732422</td>\n",
       "    </tr>\n",
       "    <tr>\n",
       "      <th>1</th>\n",
       "      <td>0.297124</td>\n",
       "      <td>0.533120</td>\n",
       "      <td>0.689145</td>\n",
       "      <td>0.529940</td>\n",
       "    </tr>\n",
       "  </tbody>\n",
       "</table>\n",
       "</div>"
      ],
      "text/plain": [
       "          0         1         2         3\n",
       "0  0.685885  0.406737  0.389587  0.732422\n",
       "1  0.297124  0.533120  0.689145  0.529940"
      ]
     },
     "execution_count": 46,
     "metadata": {},
     "output_type": "execute_result"
    }
   ],
   "source": [
    "def makeNewCentroid(cluster, x_scalar, k):\n",
    "    newCentroid = []\n",
    "    for i in range(k):\n",
    "        lis = []\n",
    "        for j in range(cluster.shape[0]):\n",
    "            if cluster.iloc[j, 0] == i:\n",
    "                lis.append(x_scalar.iloc[cluster.iloc[j,1], :])\n",
    "        lis = pd.DataFrame(lis)\n",
    "        f1 = np.mean(lis.iloc[:, 0])\n",
    "        f2 = np.mean(lis.iloc[:, 1])\n",
    "        newCentroid.append((f1, f2))\n",
    "    return pd.DataFrame(newCentroid).T\n",
    "newCentroid = makeNewCentroid(cluster, x_scalar, 4)\n",
    "newCentroid\n"
   ]
  },
  {
   "cell_type": "code",
   "execution_count": 47,
   "metadata": {},
   "outputs": [],
   "source": [
    "# pd.DataFrame(newCentroid.apply(lambda x: randomCentroids.T - x, axis=1)).iloc[0,0]"
   ]
  },
  {
   "cell_type": "code",
   "execution_count": 48,
   "metadata": {},
   "outputs": [
    {
     "data": {
      "text/html": [
       "<div>\n",
       "<style scoped>\n",
       "    .dataframe tbody tr th:only-of-type {\n",
       "        vertical-align: middle;\n",
       "    }\n",
       "\n",
       "    .dataframe tbody tr th {\n",
       "        vertical-align: top;\n",
       "    }\n",
       "\n",
       "    .dataframe thead th {\n",
       "        text-align: right;\n",
       "    }\n",
       "</style>\n",
       "<table border=\"1\" class=\"dataframe\">\n",
       "  <thead>\n",
       "    <tr style=\"text-align: right;\">\n",
       "      <th></th>\n",
       "      <th>0</th>\n",
       "      <th>1</th>\n",
       "      <th>2</th>\n",
       "      <th>3</th>\n",
       "    </tr>\n",
       "  </thead>\n",
       "  <tbody>\n",
       "    <tr>\n",
       "      <th>0</th>\n",
       "      <td>0.390692</td>\n",
       "      <td>0.784869</td>\n",
       "      <td>0.724794</td>\n",
       "      <td>0.61117</td>\n",
       "    </tr>\n",
       "    <tr>\n",
       "      <th>1</th>\n",
       "      <td>0.560276</td>\n",
       "      <td>0.485648</td>\n",
       "      <td>0.230447</td>\n",
       "      <td>0.47664</td>\n",
       "    </tr>\n",
       "  </tbody>\n",
       "</table>\n",
       "</div>"
      ],
      "text/plain": [
       "          0         1         2        3\n",
       "0  0.390692  0.784869  0.724794  0.61117\n",
       "1  0.560276  0.485648  0.230447  0.47664"
      ]
     },
     "execution_count": 48,
     "metadata": {},
     "output_type": "execute_result"
    }
   ],
   "source": [
    "def kmeans(k):\n",
    "    global centroid, cluster, distances\n",
    "    iteration = 1\n",
    "    centroid = kRandomCentroids(x_scalar, k)\n",
    "    oldCentroid = pd.DataFrame()\n",
    "    while iteration <= 50 and not centroid.equals(oldCentroid):\n",
    "        oldCentroid = centroid\n",
    "        distances = euclidianDistance(centroid, x_scalar)\n",
    "        cluster = makeCluster(distances)\n",
    "        centroid = makeNewCentroid(cluster, x_scalar, k)\n",
    "        iteration += 1\n",
    "        # print(centroid)\n",
    "kmeans(4)\n",
    "centroid"
   ]
  },
  {
   "cell_type": "code",
   "execution_count": 49,
   "metadata": {},
   "outputs": [
    {
     "data": {
      "text/plain": [
       "<matplotlib.collections.PathCollection at 0x11c42df08d0>"
      ]
     },
     "execution_count": 49,
     "metadata": {},
     "output_type": "execute_result"
    },
    {
     "data": {
      "image/png": "[encoded data removed]",
      "text/plain": [
       "<Figure size 640x480 with 1 Axes>"
      ]
     },
     "metadata": {},
     "output_type": "display_data"
    }
   ],
   "source": [
    "plt.scatter(x_scalar.iloc[:, 0], x_scalar.iloc[:, 1], c=cluster.iloc[:, 0])\n",
    "plt.scatter(centroid.iloc[0, :], centroid.iloc[1,:], c='red')"
   ]
  },
  {
   "cell_type": "code",
   "execution_count": 33,
   "metadata": {},
   "outputs": [
    {
     "data": {
      "text/plain": [
       "[455.6106542521172,\n",
       " 323.763265318764,\n",
       " 250.3560831062544,\n",
       " 227.23486897413818,\n",
       " 209.98099168991573,\n",
       " 193.88276081017102,\n",
       " 183.13688924949346,\n",
       " 167.13539325178255,\n",
       " 160.113197281494,\n",
       " 154.95531819023972]"
      ]
     },
     "execution_count": 33,
     "metadata": {},
     "output_type": "execute_result"
    }
   ],
   "source": [
    "wcss = []\n",
    "def elbowMethod():\n",
    "    global centroid, distances, cluster\n",
    "\n",
    "    for i in range(1, 11):\n",
    "        centroidToAllPoint = []\n",
    "        kmeans(i)\n",
    "        for j in range(distances.shape[0]):\n",
    "            centroidToAllPoint.append(min(distances.iloc[j,:]))\n",
    "        wcss.append(sum(centroidToAllPoint))\n",
    "elbowMethod()\n",
    "wcss"
   ]
  },
  {
   "cell_type": "code",
   "execution_count": 34,
   "metadata": {},
   "outputs": [
    {
     "data": {
      "text/plain": [
       "<Axes: >"
      ]
     },
     "execution_count": 34,
     "metadata": {},
     "output_type": "execute_result"
    },
    {
     "data": {
      "image/png": "[encoded data removed]",
      "text/plain": [
       "<Figure size 640x480 with 1 Axes>"
      ]
     },
     "metadata": {},
     "output_type": "display_data"
    }
   ],
   "source": [
    "pd.DataFrame(wcss).plot(kind='line')"
   ]
  },
  {
   "cell_type": "code",
   "execution_count": 35,
   "metadata": {},
   "outputs": [
    {
     "data": {
      "text/plain": [
       "0.3047848827059949"
      ]
     },
     "execution_count": 35,
     "metadata": {},
     "output_type": "execute_result"
    }
   ],
   "source": [
    "silhouette_score(x_scalar, cluster.iloc[:, 0])"
   ]
  }
 ],
 "metadata": {
  "kernelspec": {
   "display_name": "Python 3",
   "language": "python",
   "name": "python3"
  },
  "language_info": {
   "codemirror_mode": {
    "name": "ipython",
    "version": 3
   },
   "file_extension": ".py",
   "mimetype": "text/x-python",
   "name": "python",
   "nbconvert_exporter": "python",
   "pygments_lexer": "ipython3",
   "version": "3.11.3"
  },
  "orig_nbformat": 4
 },
 "nbformat": 4,
 "nbformat_minor": 2
}
